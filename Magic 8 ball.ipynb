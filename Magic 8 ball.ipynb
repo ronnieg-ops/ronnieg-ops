{
 "cells": [
  {
   "cell_type": "code",
   "execution_count": 5,
   "id": "c5bf740a",
   "metadata": {},
   "outputs": [
    {
     "name": "stdout",
     "output_type": "stream",
     "text": [
      "6\n"
     ]
    }
   ],
   "source": [
    "import random\n",
    "\n",
    "name = \"Joseph\"\n",
    "answer = \"\"\n",
    "\n",
    "random_number = random.randint(1,9)\n",
    "print(random_number)"
   ]
  },
  {
   "cell_type": "code",
   "execution_count": 15,
   "id": "ac78135a",
   "metadata": {},
   "outputs": [
    {
     "name": "stdout",
     "output_type": "stream",
     "text": [
      "Joseph asks: Will Liverpool win the league?\n",
      "Magic 8 balls:  It is decidedly so\n"
     ]
    }
   ],
   "source": [
    "import random\n",
    "\n",
    "name = \"Joseph\"\n",
    "answer = \"\"\n",
    "\n",
    "random_number = random.randint(1,9)\n",
    "\n",
    "\n",
    "question = \"Will Liverpool win the league?\"\n",
    "\n",
    "if random_number == 1:\n",
    "    answer = \"Yes - Definitely\"\n",
    "elif random_number == 2:\n",
    "    answer = \"It is decidedly so\"\n",
    "elif random_number == 3:\n",
    "    answer = \"Without a doubt\"\n",
    "elif random_number == 4:\n",
    "    answer = \"Reply hazy, try again\"\n",
    "elif random_number == 5:\n",
    "    answer = \"Ask again later\"\n",
    "elif random_number == 6:\n",
    "    answer = \"Better not tell you now\"\n",
    "elif random_number == 7:\n",
    "    answer =\"My sources say\"\n",
    "elif random_number == 8:\n",
    "    answer = \"Outlook not so good\"\n",
    "elif random_number == 9:\n",
    "    answer = \"Very doubtful\"\n",
    "else:\n",
    "    answer = \"Error\"\n",
    "    \n",
    "print(name + \" asks: \" + question)\n",
    "print(\"Magic 8 balls:  \" + answer)"
   ]
  },
  {
   "cell_type": "code",
   "execution_count": null,
   "id": "0c60c6e6",
   "metadata": {},
   "outputs": [],
   "source": []
  },
  {
   "cell_type": "code",
   "execution_count": null,
   "id": "77cc8ac7",
   "metadata": {},
   "outputs": [],
   "source": []
  }
 ],
 "metadata": {
  "kernelspec": {
   "display_name": "Python 3 (ipykernel)",
   "language": "python",
   "name": "python3"
  },
  "language_info": {
   "codemirror_mode": {
    "name": "ipython",
    "version": 3
   },
   "file_extension": ".py",
   "mimetype": "text/x-python",
   "name": "python",
   "nbconvert_exporter": "python",
   "pygments_lexer": "ipython3",
   "version": "3.9.7"
  }
 },
 "nbformat": 4,
 "nbformat_minor": 5
}
